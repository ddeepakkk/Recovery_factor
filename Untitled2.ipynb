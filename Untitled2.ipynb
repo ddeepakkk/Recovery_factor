{
 "cells": [
  {
   "cell_type": "code",
   "execution_count": null,
   "id": "481c660b-20fe-49f5-a814-e1a1d884469a",
   "metadata": {},
   "outputs": [],
   "source": []
  }
 ],
 "metadata": {
  "kernelspec": {
   "display_name": "",
   "name": ""
  },
  "language_info": {
   "name": ""
  }
 },
 "nbformat": 4,
 "nbformat_minor": 5
}
